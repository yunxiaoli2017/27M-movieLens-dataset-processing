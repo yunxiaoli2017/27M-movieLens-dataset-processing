{
 "cells": [
  {
   "cell_type": "code",
   "execution_count": null,
   "metadata": {},
   "outputs": [],
   "source": [
    "import pandas as pd\n",
    "import numpy as np\n",
    "import matplotlib.pyplot as plt"
   ]
  },
  {
   "cell_type": "markdown",
   "metadata": {},
   "source": [
    "# Load data from previous processing"
   ]
  },
  {
   "cell_type": "code",
   "execution_count": null,
   "metadata": {},
   "outputs": [],
   "source": [
    "data_directory = \"../../Downloads/ml-latest/\"\n",
    "movieDatasetFile_filtered = 'movie_full_dataset_filtered.csv'\n",
    "ratingDatasetFile_filtered = 'rating_full_dataset_normalized_filtered.csv'\n",
    "df_ratingDataset_filtered = pd.read_csv(data_directory + ratingDatasetFile_filtered)\n",
    "df_movieDataset_filtered = pd.read_csv(data_directory + movieDatasetFile_filtered)"
   ]
  },
  {
   "cell_type": "code",
   "execution_count": 68,
   "metadata": {},
   "outputs": [
    {
     "name": "stdout",
     "output_type": "stream",
     "text": [
      "25451571\n",
      "49800\n"
     ]
    }
   ],
   "source": [
    "print(len(df_ratingDataset_filtered))\n",
    "print(len(df_movieDataset_filtered))"
   ]
  },
  {
   "cell_type": "code",
   "execution_count": 62,
   "metadata": {},
   "outputs": [],
   "source": [
    "moviesWithRatings = list(np.unique(df_ratingDataset_filtered['movie_id']))"
   ]
  },
  {
   "cell_type": "code",
   "execution_count": 81,
   "metadata": {},
   "outputs": [
    {
     "name": "stdout",
     "output_type": "stream",
     "text": [
      "282695\n"
     ]
    }
   ],
   "source": [
    "raterIds = np.unique(df_ratingDataset_filtered['rater_id'])\n",
    "print(len(raterIds))"
   ]
  },
  {
   "cell_type": "markdown",
   "metadata": {},
   "source": [
    "# Distributions of number of ratings for each movie/rater"
   ]
  },
  {
   "cell_type": "code",
   "execution_count": 71,
   "metadata": {},
   "outputs": [],
   "source": [
    "numRatingsPerRater = {rId : 0 for rId in raterIds}\n",
    "numRatingsPerMovie = {mId : 0 for mId in moviesWithRatings}\n",
    "for i in range(len(df_ratingDataset_filtered)):\n",
    "    row = df_ratingDataset_filtered.iloc[i]\n",
    "    numRatingsPerRater[row['rater_id']] += 1\n",
    "    numRatingsPerMovie[row['movie_id']] += 1"
   ]
  },
  {
   "cell_type": "code",
   "execution_count": 78,
   "metadata": {
    "collapsed": true
   },
   "outputs": [
    {
     "data": {
      "text/plain": [
       "(array([4.4759e+04, 1.4730e+03, 7.7600e+02, 4.7800e+02, 3.0400e+02,\n",
       "        2.5700e+02, 1.7800e+02, 1.4100e+02, 1.3000e+02, 1.2000e+02,\n",
       "        8.1000e+01, 9.5000e+01, 7.5000e+01, 5.8000e+01, 5.7000e+01,\n",
       "        5.3000e+01, 4.1000e+01, 4.1000e+01, 5.5000e+01]),\n",
       " array([    0.        ,   526.31578947,  1052.63157895,  1578.94736842,\n",
       "         2105.26315789,  2631.57894737,  3157.89473684,  3684.21052632,\n",
       "         4210.52631579,  4736.84210526,  5263.15789474,  5789.47368421,\n",
       "         6315.78947368,  6842.10526316,  7368.42105263,  7894.73684211,\n",
       "         8421.05263158,  8947.36842105,  9473.68421053, 10000.        ]),\n",
       " <a list of 19 Patch objects>)"
      ]
     },
     "execution_count": 78,
     "metadata": {},
     "output_type": "execute_result"
    },
    {
     "data": {
      "image/png": "[encoded data removed]",
      "text/plain": [
       "<Figure size 432x288 with 1 Axes>"
      ]
     },
     "metadata": {
      "needs_background": "light"
     },
     "output_type": "display_data"
    }
   ],
   "source": [
    "bins = list(np.linspace(0, 10000, 20))\n",
    "plt.hist(numRatingsPerMovie.values(), bins = bins)"
   ]
  },
  {
   "cell_type": "code",
   "execution_count": 118,
   "metadata": {
    "collapsed": true
   },
   "outputs": [
    {
     "data": {
      "text/plain": [
       "(array([44973., 71248., 29633., 19163., 14614., 11612.,  9252.,  7316.,\n",
       "         6257.,  6450.,  5019.,  4345.,  3775.,  3319.,  2975.,  2655.,\n",
       "         2306.,  2059.,  2138.,  1924.,  1664.,  1617.,  1409.,  1375.,\n",
       "         1206.,     0.,  7811.,  4630.,  3029.,  2138.,  1453.,  1084.,\n",
       "          815.,   602.,   523.,     0.,  1095.,   500.,   249.]),\n",
       " array([   0.        ,   10.        ,   20.        ,   30.        ,\n",
       "          40.        ,   50.        ,   60.        ,   70.        ,\n",
       "          80.        ,   90.        ,  100.        ,  110.        ,\n",
       "         120.        ,  130.        ,  140.        ,  150.        ,\n",
       "         160.        ,  170.        ,  180.        ,  190.        ,\n",
       "         200.        ,  210.        ,  220.        ,  230.        ,\n",
       "         240.        ,  250.        ,  250.        ,  333.33333333,\n",
       "         416.66666667,  500.        ,  583.33333333,  666.66666667,\n",
       "         750.        ,  833.33333333,  916.66666667, 1000.        ,\n",
       "        1000.        , 1266.66666667, 1533.33333333, 1800.        ]),\n",
       " <a list of 39 Patch objects>)"
      ]
     },
     "execution_count": 118,
     "metadata": {},
     "output_type": "execute_result"
    },
    {
     "data": {
      "image/png": "[encoded data removed]",
      "text/plain": [
       "<Figure size 432x288 with 1 Axes>"
      ]
     },
     "metadata": {
      "needs_background": "light"
     },
     "output_type": "display_data"
    }
   ],
   "source": [
    "bins = list(np.linspace(0, 250, 26)) + list(np.linspace(250, 1000, 10)) + list(np.linspace(1000, 1800, 4))\n",
    "plt.hist(numRatingsPerRater.values(), bins = bins)"
   ]
  },
  {
   "cell_type": "code",
   "execution_count": 152,
   "metadata": {},
   "outputs": [
    {
     "name": "stdout",
     "output_type": "stream",
     "text": [
      "511.0757228915663 7.0\n"
     ]
    }
   ],
   "source": [
    "print(np.mean(list(numRatingsPerMovie.values())), np.median(list(numRatingsPerMovie.values())))"
   ]
  },
  {
   "cell_type": "code",
   "execution_count": 153,
   "metadata": {},
   "outputs": [
    {
     "name": "stdout",
     "output_type": "stream",
     "text": [
      "97999\n"
     ]
    }
   ],
   "source": [
    "print(np.max(list(numRatingsPerMovie.values())))"
   ]
  },
  {
   "cell_type": "code",
   "execution_count": 143,
   "metadata": {},
   "outputs": [
    {
     "name": "stdout",
     "output_type": "stream",
     "text": [
      "90.03191071649658\n",
      "28.0\n"
     ]
    }
   ],
   "source": [
    "print(np.mean(list(numRatingsPerRater.values())))\n",
    "print(np.median(list(numRatingsPerRater.values())))"
   ]
  },
  {
   "cell_type": "markdown",
   "metadata": {},
   "source": [
    "# Sort out raters who have fewer ratings and mainly rate over-represented movies (with > 5000 ratings)"
   ]
  },
  {
   "cell_type": "code",
   "execution_count": 112,
   "metadata": {},
   "outputs": [],
   "source": [
    "moviesOver5000 = [i for i in numRatingsPerMovie.keys() if numRatingsPerMovie[i] > 5000]"
   ]
  },
  {
   "cell_type": "markdown",
   "metadata": {},
   "source": [
    "## filter raters with <= 10 ratings"
   ]
  },
  {
   "cell_type": "code",
   "execution_count": 119,
   "metadata": {},
   "outputs": [
    {
     "name": "stdout",
     "output_type": "stream",
     "text": [
      "44973\n"
     ]
    }
   ],
   "source": [
    "ratersTen = [i for i in numRatingsPerRater.keys() if numRatingsPerRater[i] < 10]\n",
    "print(len(ratersTen))"
   ]
  },
  {
   "cell_type": "code",
   "execution_count": 121,
   "metadata": {
    "collapsed": true
   },
   "outputs": [
    {
     "name": "stdout",
     "output_type": "stream",
     "text": [
      "1000 processed 43973 left\n",
      "2000 processed 42973 left\n",
      "3000 processed 41973 left\n",
      "4000 processed 40973 left\n",
      "5000 processed 39973 left\n",
      "6000 processed 38973 left\n",
      "7000 processed 37973 left\n",
      "8000 processed 36973 left\n",
      "9000 processed 35973 left\n",
      "10000 processed 34973 left\n",
      "11000 processed 33973 left\n",
      "12000 processed 32973 left\n",
      "13000 processed 31973 left\n",
      "14000 processed 30973 left\n",
      "15000 processed 29973 left\n",
      "16000 processed 28973 left\n",
      "17000 processed 27973 left\n",
      "18000 processed 26973 left\n",
      "19000 processed 25973 left\n",
      "20000 processed 24973 left\n",
      "21000 processed 23973 left\n",
      "22000 processed 22973 left\n",
      "23000 processed 21973 left\n",
      "24000 processed 20973 left\n",
      "25000 processed 19973 left\n",
      "26000 processed 18973 left\n",
      "27000 processed 17973 left\n",
      "28000 processed 16973 left\n",
      "29000 processed 15973 left\n",
      "30000 processed 14973 left\n",
      "31000 processed 13973 left\n",
      "32000 processed 12973 left\n",
      "33000 processed 11973 left\n",
      "34000 processed 10973 left\n",
      "35000 processed 9973 left\n",
      "36000 processed 8973 left\n",
      "37000 processed 7973 left\n",
      "38000 processed 6973 left\n",
      "39000 processed 5973 left\n",
      "40000 processed 4973 left\n",
      "41000 processed 3973 left\n",
      "42000 processed 2973 left\n",
      "43000 processed 1973 left\n",
      "44000 processed 973 left\n",
      "37555\n"
     ]
    }
   ],
   "source": [
    "threshold = 0.5\n",
    "count = 0\n",
    "total = len(ratersTen)\n",
    "ratersRemove = []\n",
    "for r in ratersTen:\n",
    "    df1 = df_ratingDataset_filtered[df_ratingDataset_filtered['rater_id'] == r]\n",
    "    df2 = df1[~df1['movie_id'].isin(moviesOver5000)]\n",
    "    if len(df2) / len(df1) < threshold:\n",
    "        ratersRemove.append(r)\n",
    "    count += 1\n",
    "    if (count % 1000 == 0):\n",
    "        print(f'{count} processed {total - count} left')\n",
    "print(len(ratersRemove))"
   ]
  },
  {
   "cell_type": "code",
   "execution_count": 142,
   "metadata": {},
   "outputs": [
    {
     "data": {
      "text/plain": [
       "220125"
      ]
     },
     "execution_count": 142,
     "metadata": {},
     "output_type": "execute_result"
    }
   ],
   "source": [
    "len(df_ratingDataset_filtered[df_ratingDataset_filtered['rater_id'].isin(ratersTen)])"
   ]
  },
  {
   "cell_type": "code",
   "execution_count": 122,
   "metadata": {},
   "outputs": [
    {
     "data": {
      "text/plain": [
       "185014"
      ]
     },
     "execution_count": 122,
     "metadata": {},
     "output_type": "execute_result"
    }
   ],
   "source": [
    "len(df_ratingDataset_filtered[df_ratingDataset_filtered['rater_id'].isin(ratersRemove)])"
   ]
  },
  {
   "cell_type": "code",
   "execution_count": 144,
   "metadata": {},
   "outputs": [
    {
     "name": "stdout",
     "output_type": "stream",
     "text": [
      "5736\n"
     ]
    }
   ],
   "source": [
    "ratersExactTen = [i for i in numRatingsPerRater.keys() if numRatingsPerRater[i] == 10]\n",
    "print(len(ratersExactTen))"
   ]
  },
  {
   "cell_type": "code",
   "execution_count": 145,
   "metadata": {
    "collapsed": true
   },
   "outputs": [
    {
     "name": "stdout",
     "output_type": "stream",
     "text": [
      "1000 processed 4736 left\n",
      "2000 processed 3736 left\n",
      "3000 processed 2736 left\n",
      "4000 processed 1736 left\n",
      "5000 processed 736 left\n",
      "4893\n"
     ]
    }
   ],
   "source": [
    "threshold = 0.5\n",
    "count = 0\n",
    "total = len(ratersExactTen)\n",
    "ratersRemove0 = []\n",
    "for r in ratersExactTen:\n",
    "    df1 = df_ratingDataset_filtered[df_ratingDataset_filtered['rater_id'] == r]\n",
    "    df2 = df1[~df1['movie_id'].isin(moviesOver5000)]\n",
    "    if len(df2) / len(df1) < threshold:\n",
    "        ratersRemove0.append(r)\n",
    "    count += 1\n",
    "    if (count % 1000 == 0):\n",
    "        print(f'{count} processed {total - count} left')\n",
    "print(len(ratersRemove0))"
   ]
  },
  {
   "cell_type": "markdown",
   "metadata": {},
   "source": [
    "## filter raters with > 10 and < 20 ratings"
   ]
  },
  {
   "cell_type": "code",
   "execution_count": 123,
   "metadata": {},
   "outputs": [
    {
     "name": "stdout",
     "output_type": "stream",
     "text": [
      "65512\n"
     ]
    }
   ],
   "source": [
    "ratersTenTwenty = [i for i in numRatingsPerRater.keys() if numRatingsPerRater[i] > 10 and numRatingsPerRater[i] < 20]\n",
    "print(len(ratersTenTwenty))"
   ]
  },
  {
   "cell_type": "code",
   "execution_count": 126,
   "metadata": {
    "collapsed": true
   },
   "outputs": [
    {
     "name": "stdout",
     "output_type": "stream",
     "text": [
      "5000 processed 60512 left\n",
      "10000 processed 55512 left\n",
      "15000 processed 50512 left\n",
      "20000 processed 45512 left\n",
      "25000 processed 40512 left\n",
      "30000 processed 35512 left\n",
      "35000 processed 30512 left\n",
      "40000 processed 25512 left\n",
      "45000 processed 20512 left\n",
      "50000 processed 15512 left\n",
      "55000 processed 10512 left\n",
      "60000 processed 5512 left\n",
      "65000 processed 512 left\n",
      "57241\n"
     ]
    }
   ],
   "source": [
    "threshold = 0.5\n",
    "count = 0\n",
    "total = len(ratersTenTwenty)\n",
    "ratersRemove2 = []\n",
    "for r in ratersTenTwenty:\n",
    "    df1 = df_ratingDataset_filtered[df_ratingDataset_filtered['rater_id'] == r]\n",
    "    df2 = df1[~df1['movie_id'].isin(moviesOver5000)]\n",
    "    if len(df2) / len(df1) < threshold:\n",
    "        ratersRemove2.append(r)\n",
    "    count += 1\n",
    "    if (count % 5000 == 0):\n",
    "        print(f'{count} processed {total - count} left')\n",
    "print(len(ratersRemove2))"
   ]
  },
  {
   "cell_type": "code",
   "execution_count": 141,
   "metadata": {},
   "outputs": [
    {
     "data": {
      "text/plain": [
       "977103"
      ]
     },
     "execution_count": 141,
     "metadata": {},
     "output_type": "execute_result"
    }
   ],
   "source": [
    "len(df_ratingDataset_filtered[df_ratingDataset_filtered['rater_id'].isin(ratersTenTwenty)])"
   ]
  },
  {
   "cell_type": "code",
   "execution_count": 127,
   "metadata": {},
   "outputs": [
    {
     "data": {
      "text/plain": [
       "857365"
      ]
     },
     "execution_count": 127,
     "metadata": {},
     "output_type": "execute_result"
    }
   ],
   "source": [
    "len(df_ratingDataset_filtered[df_ratingDataset_filtered['rater_id'].isin(ratersRemove2)])"
   ]
  },
  {
   "cell_type": "markdown",
   "metadata": {},
   "source": [
    "## filter raters with  >= 10 and < 40 ratings"
   ]
  },
  {
   "cell_type": "code",
   "execution_count": 146,
   "metadata": {},
   "outputs": [
    {
     "name": "stdout",
     "output_type": "stream",
     "text": [
      "48796\n"
     ]
    }
   ],
   "source": [
    "ratersTwentyForty = [i for i in numRatingsPerRater.keys() if numRatingsPerRater[i] >= 20 and numRatingsPerRater[i] < 40]\n",
    "print(len(ratersTwentyForty))"
   ]
  },
  {
   "cell_type": "code",
   "execution_count": 147,
   "metadata": {
    "collapsed": true
   },
   "outputs": [
    {
     "name": "stdout",
     "output_type": "stream",
     "text": [
      "5000 processed 43796 left\n",
      "10000 processed 38796 left\n",
      "15000 processed 33796 left\n",
      "20000 processed 28796 left\n",
      "25000 processed 23796 left\n",
      "30000 processed 18796 left\n",
      "35000 processed 13796 left\n",
      "40000 processed 8796 left\n",
      "45000 processed 3796 left\n",
      "46240\n"
     ]
    }
   ],
   "source": [
    "threshold = 0.5\n",
    "count = 0\n",
    "total = len(ratersTwentyForty)\n",
    "ratersRemove3 = []\n",
    "for r in ratersTwentyForty:\n",
    "    df1 = df_ratingDataset_filtered[df_ratingDataset_filtered['rater_id'] == r]\n",
    "    df2 = df1[~df1['movie_id'].isin(moviesOver5000)]\n",
    "    if len(df2) / len(df1) < threshold:\n",
    "        ratersRemove3.append(r)\n",
    "    count += 1\n",
    "    if (count % 5000 == 0):\n",
    "        print(f'{count} processed {total - count} left')\n",
    "print(len(ratersRemove3))"
   ]
  },
  {
   "cell_type": "code",
   "execution_count": 150,
   "metadata": {},
   "outputs": [
    {
     "data": {
      "text/plain": [
       "1368062"
      ]
     },
     "execution_count": 150,
     "metadata": {},
     "output_type": "execute_result"
    }
   ],
   "source": [
    "len(df_ratingDataset_filtered[df_ratingDataset_filtered['rater_id'].isin(ratersTwentyForty)])"
   ]
  },
  {
   "cell_type": "code",
   "execution_count": 151,
   "metadata": {},
   "outputs": [
    {
     "data": {
      "text/plain": [
       "1298727"
      ]
     },
     "execution_count": 151,
     "metadata": {},
     "output_type": "execute_result"
    }
   ],
   "source": [
    "len(df_ratingDataset_filtered[df_ratingDataset_filtered['rater_id'].isin(ratersRemove3)])"
   ]
  },
  {
   "cell_type": "markdown",
   "metadata": {},
   "source": [
    "## So far, 2 million ratings will be removed from 25 million ratings"
   ]
  },
  {
   "cell_type": "code",
   "execution_count": 159,
   "metadata": {},
   "outputs": [
    {
     "name": "stdout",
     "output_type": "stream",
     "text": [
      "145929 2390036\n"
     ]
    }
   ],
   "source": [
    "ratersRemoveAll = ratersRemove0 + ratersRemove + ratersRemove2 + ratersRemove3\n",
    "print(len(ratersRemoveAll), len(df_ratingDataset_filtered[df_ratingDataset_filtered['rater_id'].isin(ratersRemoveAll)]))"
   ]
  },
  {
   "cell_type": "code",
   "execution_count": 160,
   "metadata": {},
   "outputs": [
    {
     "name": "stdout",
     "output_type": "stream",
     "text": [
      "23061535\n"
     ]
    }
   ],
   "source": [
    "df_ratingDataset_filtered_further = df_ratingDataset_filtered[~df_ratingDataset_filtered['rater_id'].isin(ratersRemoveAll)]\n",
    "print(len(df_ratingDataset_filtered_further))"
   ]
  },
  {
   "cell_type": "markdown",
   "metadata": {},
   "source": [
    "# Down-sample movies with more ratings to formulate a compact dataset"
   ]
  },
  {
   "cell_type": "markdown",
   "metadata": {},
   "source": [
    "### Till now, we have 23 million ratings left.\n",
    "\n",
    "### Map 1000 ~ 51000 ratings to 1000 ~ 2000 ratings: f(x) = 1000 + (x-1000)//50\n",
    "### If downsample moviesOver1000 using the above map, then we yield 3 ~ 6 million out of 22 million ratings"
   ]
  },
  {
   "cell_type": "code",
   "execution_count": 166,
   "metadata": {},
   "outputs": [],
   "source": [
    "def getSampleNumber(num):\n",
    "    return 1000 + min((num - 1000) // 50, 1000)"
   ]
  },
  {
   "cell_type": "code",
   "execution_count": 135,
   "metadata": {},
   "outputs": [
    {
     "name": "stdout",
     "output_type": "stream",
     "text": [
      "3668\n"
     ]
    }
   ],
   "source": [
    "moviesOver1000 = [i for i in numRatingsPerMovie.keys() if numRatingsPerMovie[i] > 1000]\n",
    "print(len(moviesOver1000))"
   ]
  },
  {
   "cell_type": "code",
   "execution_count": 173,
   "metadata": {
    "collapsed": true
   },
   "outputs": [
    {
     "name": "stdout",
     "output_type": "stream",
     "text": [
      "100 processed 3568 left\n",
      "200 processed 3468 left\n",
      "300 processed 3368 left\n",
      "400 processed 3268 left\n",
      "500 processed 3168 left\n",
      "600 processed 3068 left\n",
      "700 processed 2968 left\n",
      "800 processed 2868 left\n",
      "900 processed 2768 left\n",
      "1000 processed 2668 left\n",
      "1100 processed 2568 left\n",
      "1200 processed 2468 left\n",
      "1300 processed 2368 left\n",
      "1400 processed 2268 left\n",
      "1500 processed 2168 left\n",
      "1600 processed 2068 left\n",
      "1700 processed 1968 left\n",
      "1800 processed 1868 left\n",
      "1900 processed 1768 left\n",
      "2000 processed 1668 left\n",
      "2100 processed 1568 left\n",
      "2200 processed 1468 left\n",
      "2300 processed 1368 left\n",
      "2400 processed 1268 left\n",
      "2500 processed 1168 left\n",
      "2600 processed 1068 left\n",
      "2700 processed 968 left\n",
      "2800 processed 868 left\n",
      "2900 processed 768 left\n",
      "3000 processed 668 left\n",
      "3100 processed 568 left\n",
      "3200 processed 468 left\n",
      "3300 processed 368 left\n",
      "3400 processed 268 left\n",
      "3500 processed 168 left\n",
      "3600 processed 68 left\n",
      "4039311\n"
     ]
    }
   ],
   "source": [
    "ratingDatasetFile_compact = \"rating_compact_dataset.csv\"\n",
    "m = moviesOver1000[0]\n",
    "n = getSampleNumber(numRatingsPerMovie[m])\n",
    "df1 = df_ratingDataset_filtered_further[df_ratingDataset_filtered_further['movie_id'] == m].sample(n)\n",
    "df1.to_csv(data_directory + ratingDatasetFile_compact, index=False)\n",
    "count = len(df1)\n",
    "c = 1\n",
    "total = len(moviesOver1000)\n",
    "for m in moviesOver1000[1:]:\n",
    "    df0 = df_ratingDataset_filtered_further[df_ratingDataset_filtered_further['movie_id'] == m]\n",
    "    if len(df0) > 1000:\n",
    "        n = getSampleNumber(numRatingsPerMovie[m])\n",
    "        df1 = df0.sample(n)\n",
    "        df1.to_csv(data_directory + ratingDatasetFile_compact, mode='a', header=False, index=False)\n",
    "        count += len(df1)\n",
    "    else:\n",
    "        df0.to_csv(data_directory + ratingDatasetFile_compact, mode='a', header=False, index=False)\n",
    "        count += len(df0)\n",
    "    c += 1\n",
    "    if c % 100 == 0:\n",
    "        print(f\"{c} processed {total - c} left\")\n",
    "print(count)"
   ]
  },
  {
   "cell_type": "code",
   "execution_count": 174,
   "metadata": {},
   "outputs": [
    {
     "name": "stdout",
     "output_type": "stream",
     "text": [
      "4039311\n"
     ]
    },
    {
     "data": {
      "text/html": [
       "<div>\n",
       "<style scoped>\n",
       "    .dataframe tbody tr th:only-of-type {\n",
       "        vertical-align: middle;\n",
       "    }\n",
       "\n",
       "    .dataframe tbody tr th {\n",
       "        vertical-align: top;\n",
       "    }\n",
       "\n",
       "    .dataframe thead th {\n",
       "        text-align: right;\n",
       "    }\n",
       "</style>\n",
       "<table border=\"1\" class=\"dataframe\">\n",
       "  <thead>\n",
       "    <tr style=\"text-align: right;\">\n",
       "      <th></th>\n",
       "      <th>rater_id</th>\n",
       "      <th>movie_id</th>\n",
       "      <th>rating</th>\n",
       "      <th>timestamp</th>\n",
       "    </tr>\n",
       "  </thead>\n",
       "  <tbody>\n",
       "    <tr>\n",
       "      <th>0</th>\n",
       "      <td>45574</td>\n",
       "      <td>1</td>\n",
       "      <td>0.318182</td>\n",
       "      <td>1439422527</td>\n",
       "    </tr>\n",
       "    <tr>\n",
       "      <th>1</th>\n",
       "      <td>118362</td>\n",
       "      <td>1</td>\n",
       "      <td>0.063604</td>\n",
       "      <td>1384960898</td>\n",
       "    </tr>\n",
       "    <tr>\n",
       "      <th>2</th>\n",
       "      <td>71963</td>\n",
       "      <td>1</td>\n",
       "      <td>0.072266</td>\n",
       "      <td>965489170</td>\n",
       "    </tr>\n",
       "    <tr>\n",
       "      <th>3</th>\n",
       "      <td>253903</td>\n",
       "      <td>1</td>\n",
       "      <td>0.138084</td>\n",
       "      <td>1175013173</td>\n",
       "    </tr>\n",
       "    <tr>\n",
       "      <th>4</th>\n",
       "      <td>111325</td>\n",
       "      <td>1</td>\n",
       "      <td>-0.225100</td>\n",
       "      <td>1491573390</td>\n",
       "    </tr>\n",
       "  </tbody>\n",
       "</table>\n",
       "</div>"
      ],
      "text/plain": [
       "   rater_id  movie_id    rating   timestamp\n",
       "0     45574         1  0.318182  1439422527\n",
       "1    118362         1  0.063604  1384960898\n",
       "2     71963         1  0.072266   965489170\n",
       "3    253903         1  0.138084  1175013173\n",
       "4    111325         1 -0.225100  1491573390"
      ]
     },
     "execution_count": 174,
     "metadata": {},
     "output_type": "execute_result"
    }
   ],
   "source": [
    "df = pd.read_csv(data_directory + ratingDatasetFile_compact)\n",
    "print(len(df))\n",
    "df.head()"
   ]
  },
  {
   "cell_type": "markdown",
   "metadata": {},
   "source": [
    "# Create a compact movie dataset to draw movies from popular movies"
   ]
  },
  {
   "cell_type": "code",
   "execution_count": null,
   "metadata": {},
   "outputs": [],
   "source": [
    "print(len(df_movieDataset_filtered))\n",
    "df_movieDataset_popular = df_movieDataset_filtered[df_movieDataset_filtered['movie_id'].isin(moviesOver5000)]\n",
    "print(len(df_movieDataset_popular))"
   ]
  },
  {
   "cell_type": "code",
   "execution_count": 185,
   "metadata": {},
   "outputs": [],
   "source": [
    "movieDatasetFile_popular = \"movie_popular_dataset.csv\"\n",
    "df_movieDataset_popular.to_csv(data_directory + movieDatasetFile_popular, index=False)"
   ]
  }
 ],
 "metadata": {
  "kernelspec": {
   "display_name": "Environment (conda_anaconda3)",
   "language": "python",
   "name": "conda_anaconda3"
  },
  "language_info": {
   "codemirror_mode": {
    "name": "ipython",
    "version": 3
   },
   "file_extension": ".py",
   "mimetype": "text/x-python",
   "name": "python",
   "nbconvert_exporter": "python",
   "pygments_lexer": "ipython3",
   "version": "3.6.10"
  }
 },
 "nbformat": 4,
 "nbformat_minor": 4
}
