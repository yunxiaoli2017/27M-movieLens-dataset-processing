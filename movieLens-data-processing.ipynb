{
 "cells": [
  {
   "cell_type": "code",
   "execution_count": 1,
   "metadata": {},
   "outputs": [],
   "source": [
    "import pandas as pd\n",
    "import numpy as np\n",
    "import matplotlib.pyplot as plt"
   ]
  },
  {
   "cell_type": "markdown",
   "metadata": {},
   "source": [
    "# Load original data from movieLens"
   ]
  },
  {
   "cell_type": "code",
   "execution_count": 2,
   "metadata": {},
   "outputs": [],
   "source": [
    "data_directory = \"../../Downloads/ml-latest/\"\n",
    "movieFile = \"movies.csv\"\n",
    "ratingFile = \"ratings.csv\""
   ]
  },
  {
   "cell_type": "code",
   "execution_count": 3,
   "metadata": {},
   "outputs": [],
   "source": [
    "df_rating = pd.read_csv(data_directory + ratingFile, dtype = {'timestamp': 'Int64'})\n",
    "df_movie = pd.read_csv(data_directory + movieFile)"
   ]
  },
  {
   "cell_type": "code",
   "execution_count": 4,
   "metadata": {},
   "outputs": [
    {
     "data": {
      "text/html": [
       "<div>\n",
       "<style scoped>\n",
       "    .dataframe tbody tr th:only-of-type {\n",
       "        vertical-align: middle;\n",
       "    }\n",
       "\n",
       "    .dataframe tbody tr th {\n",
       "        vertical-align: top;\n",
       "    }\n",
       "\n",
       "    .dataframe thead th {\n",
       "        text-align: right;\n",
       "    }\n",
       "</style>\n",
       "<table border=\"1\" class=\"dataframe\">\n",
       "  <thead>\n",
       "    <tr style=\"text-align: right;\">\n",
       "      <th></th>\n",
       "      <th>userId</th>\n",
       "      <th>movieId</th>\n",
       "      <th>rating</th>\n",
       "      <th>timestamp</th>\n",
       "    </tr>\n",
       "  </thead>\n",
       "  <tbody>\n",
       "    <tr>\n",
       "      <th>0</th>\n",
       "      <td>1</td>\n",
       "      <td>307</td>\n",
       "      <td>3.5</td>\n",
       "      <td>1256677221</td>\n",
       "    </tr>\n",
       "    <tr>\n",
       "      <th>1</th>\n",
       "      <td>1</td>\n",
       "      <td>481</td>\n",
       "      <td>3.5</td>\n",
       "      <td>1256677456</td>\n",
       "    </tr>\n",
       "    <tr>\n",
       "      <th>2</th>\n",
       "      <td>1</td>\n",
       "      <td>1091</td>\n",
       "      <td>1.5</td>\n",
       "      <td>1256677471</td>\n",
       "    </tr>\n",
       "    <tr>\n",
       "      <th>3</th>\n",
       "      <td>1</td>\n",
       "      <td>1257</td>\n",
       "      <td>4.5</td>\n",
       "      <td>1256677460</td>\n",
       "    </tr>\n",
       "    <tr>\n",
       "      <th>4</th>\n",
       "      <td>1</td>\n",
       "      <td>1449</td>\n",
       "      <td>4.5</td>\n",
       "      <td>1256677264</td>\n",
       "    </tr>\n",
       "  </tbody>\n",
       "</table>\n",
       "</div>"
      ],
      "text/plain": [
       "   userId  movieId  rating   timestamp\n",
       "0       1      307     3.5  1256677221\n",
       "1       1      481     3.5  1256677456\n",
       "2       1     1091     1.5  1256677471\n",
       "3       1     1257     4.5  1256677460\n",
       "4       1     1449     4.5  1256677264"
      ]
     },
     "execution_count": 4,
     "metadata": {},
     "output_type": "execute_result"
    }
   ],
   "source": [
    "df_rating.head()"
   ]
  },
  {
   "cell_type": "code",
   "execution_count": 5,
   "metadata": {},
   "outputs": [
    {
     "data": {
      "text/html": [
       "<div>\n",
       "<style scoped>\n",
       "    .dataframe tbody tr th:only-of-type {\n",
       "        vertical-align: middle;\n",
       "    }\n",
       "\n",
       "    .dataframe tbody tr th {\n",
       "        vertical-align: top;\n",
       "    }\n",
       "\n",
       "    .dataframe thead th {\n",
       "        text-align: right;\n",
       "    }\n",
       "</style>\n",
       "<table border=\"1\" class=\"dataframe\">\n",
       "  <thead>\n",
       "    <tr style=\"text-align: right;\">\n",
       "      <th></th>\n",
       "      <th>movieId</th>\n",
       "      <th>title</th>\n",
       "      <th>genres</th>\n",
       "    </tr>\n",
       "  </thead>\n",
       "  <tbody>\n",
       "    <tr>\n",
       "      <th>0</th>\n",
       "      <td>1</td>\n",
       "      <td>Toy Story (1995)</td>\n",
       "      <td>Adventure|Animation|Children|Comedy|Fantasy</td>\n",
       "    </tr>\n",
       "    <tr>\n",
       "      <th>1</th>\n",
       "      <td>2</td>\n",
       "      <td>Jumanji (1995)</td>\n",
       "      <td>Adventure|Children|Fantasy</td>\n",
       "    </tr>\n",
       "    <tr>\n",
       "      <th>2</th>\n",
       "      <td>3</td>\n",
       "      <td>Grumpier Old Men (1995)</td>\n",
       "      <td>Comedy|Romance</td>\n",
       "    </tr>\n",
       "    <tr>\n",
       "      <th>3</th>\n",
       "      <td>4</td>\n",
       "      <td>Waiting to Exhale (1995)</td>\n",
       "      <td>Comedy|Drama|Romance</td>\n",
       "    </tr>\n",
       "    <tr>\n",
       "      <th>4</th>\n",
       "      <td>5</td>\n",
       "      <td>Father of the Bride Part II (1995)</td>\n",
       "      <td>Comedy</td>\n",
       "    </tr>\n",
       "  </tbody>\n",
       "</table>\n",
       "</div>"
      ],
      "text/plain": [
       "   movieId                               title  \\\n",
       "0        1                    Toy Story (1995)   \n",
       "1        2                      Jumanji (1995)   \n",
       "2        3             Grumpier Old Men (1995)   \n",
       "3        4            Waiting to Exhale (1995)   \n",
       "4        5  Father of the Bride Part II (1995)   \n",
       "\n",
       "                                        genres  \n",
       "0  Adventure|Animation|Children|Comedy|Fantasy  \n",
       "1                   Adventure|Children|Fantasy  \n",
       "2                               Comedy|Romance  \n",
       "3                         Comedy|Drama|Romance  \n",
       "4                                       Comedy  "
      ]
     },
     "execution_count": 5,
     "metadata": {},
     "output_type": "execute_result"
    }
   ],
   "source": [
    "df_movie.head()"
   ]
  },
  {
   "cell_type": "markdown",
   "metadata": {},
   "source": [
    "# Target dataset\n",
    "\n",
    "## movies table\n",
    "### movie_id, imdb_id, title, genres, imdb_url, poster_url\n",
    "\n",
    "## ratings table\n",
    "### rater_id, movie_id, rating, timestamp"
   ]
  },
  {
   "cell_type": "markdown",
   "metadata": {},
   "source": [
    "# Scrape info from IMDB"
   ]
  },
  {
   "cell_type": "code",
   "execution_count": null,
   "metadata": {},
   "outputs": [],
   "source": [
    "movieDatasetFile = 'movie_full_dataset.csv'\n",
    "with open(data_directory + movieDatasetFile, 'w', newline='') as out_csv:\n",
    "    writer = csv.writer(out_csv, delimiter=',')\n",
    "    writer.writerow(['movie_id', 'imdb_id', 'title', 'genres', 'imdb_url', 'poster_url'])\n",
    "endPoint = -1"
   ]
  },
  {
   "cell_type": "code",
   "execution_count": null,
   "metadata": {},
   "outputs": [],
   "source": [
    "%%time\n",
    "total = len(df_movie)\n",
    "count = endingPoint\n",
    "with open(data_directory + movieDatasetFile, 'a', newline='') as out_csv:\n",
    "    writer = csv.writer(out_csv, delimiter=',')\n",
    "    for i in range(len(df_movie))[endingPoint + 1 :]:\n",
    "        row = df_movie.iloc[i]\n",
    "        movieId = row['movieId']\n",
    "        title = row['title']\n",
    "        genres = row['genres']\n",
    "        domain = 'http://www.imdb.com'\n",
    "        search_url = domain + '/find?q=' + urllib.parse.quote_plus(title)\n",
    "        count += 1\n",
    "        if (count % 100 == 0):\n",
    "            print(f'{count} processing, {total - count} left')\n",
    "        with urllib.request.urlopen(search_url) as response:\n",
    "            html = response.read()\n",
    "            soup = BeautifulSoup(html, 'html.parser')\n",
    "            # Get url of 1st search result\n",
    "            try:\n",
    "                foundTitle = soup.find('table', class_='findList').tr.a['href']\n",
    "                movieUrl = domain + foundTitle\n",
    "                imdbId = int(foundTitle.split('/')[2][2:])\n",
    "                with urllib.request.urlopen(movieUrl) as response:\n",
    "                    html = response.read()\n",
    "                    soup = BeautifulSoup(html, 'html.parser')\n",
    "                    # Get url of poster image\n",
    "                    try:\n",
    "                        posterUrl = soup.find('div', class_='poster').a.img['src']\n",
    "                        extension = '.jpg'\n",
    "                        posterUrl = ''.join(posterUrl.partition('_')[0]) + extension\n",
    "                        writer.writerow([movieId, imdbId, title, genres, movieUrl, posterUrl])\n",
    "                    # Ignore cases where search returns no results\n",
    "                    except AttributeError:\n",
    "                        pass\n",
    "            # Ignore cases where search returns no results\n",
    "            except AttributeError:\n",
    "                pass"
   ]
  },
  {
   "cell_type": "markdown",
   "metadata": {},
   "source": [
    "### In case connection closed by IMDB host, get breakpoint, re-run the upper cell to keep scraping."
   ]
  },
  {
   "cell_type": "code",
   "execution_count": null,
   "metadata": {},
   "outputs": [],
   "source": [
    "# URLError: <urlopen error [Errno 54] Connection reset by peer>\n",
    "movieDatasetFile = 'movie_full_dataset.csv'\n",
    "df_movieDataset = pd.read_csv(data_directory + movieDatasetFile)\n",
    "endingId = df_movieDataset.iloc[len(df_movieDataset) - 1]['movie_id']\n",
    "for i in range(len(df_movie)):\n",
    "    row = df_movie.iloc[i]\n",
    "    movieId = row['movieId']\n",
    "    if movieId == endingId:\n",
    "        print(f\"found ending point {i}th row\")\n",
    "        break\n",
    "endingPoint = i"
   ]
  },
  {
   "cell_type": "code",
   "execution_count": 7,
   "metadata": {},
   "outputs": [
    {
     "name": "stdout",
     "output_type": "stream",
     "text": [
      "yield 53806 rows with poster urls from 58098 rows in original dataset\n"
     ]
    }
   ],
   "source": [
    "movieDatasetFile = 'movie_full_dataset.csv'\n",
    "df_movieDataset = pd.read_csv(data_directory + movieDatasetFile)\n",
    "print(f'yield {len(df_movieDataset)} rows with poster urls from {len(df_movie)} rows in original dataset')"
   ]
  },
  {
   "cell_type": "markdown",
   "metadata": {},
   "source": [
    "# Normalize ratings using Decoupling Normalization"
   ]
  },
  {
   "cell_type": "code",
   "execution_count": null,
   "metadata": {},
   "outputs": [],
   "source": [
    "allRaters = np.unique(df_rating['userId'])"
   ]
  },
  {
   "cell_type": "code",
   "execution_count": null,
   "metadata": {},
   "outputs": [],
   "source": [
    "ratingsPerRater = {rater: [] for rater in allRaters}\n",
    "for i in range(len(df_rating)):\n",
    "    row = df_rating.iloc[i]\n",
    "    ratingsPerRater[row['userId']].append(row['rating'])"
   ]
  },
  {
   "cell_type": "code",
   "execution_count": null,
   "metadata": {},
   "outputs": [],
   "source": [
    "POSSIBLE_RATINGS = [0.5, 1, 1.5, 2, 2.5, 3, 3.5, 4, 4.5, 5]\n",
    "def getProb(ratings, r):\n",
    "    p1 = np.sum([rating < r for rating in ratings]) / len(ratings)\n",
    "    p2 = np.sum([rating == r for rating in ratings]) / len(ratings)\n",
    "    return p1 + p2 / 2\n",
    "\n",
    "def getDecoupledRatings(ratings):\n",
    "    prob = {r : getProb(ratings, r) for r in POSSIBLE_RATINGS}\n",
    "    decoupledRatings = [prob[rating] for rating in ratings]\n",
    "    return decoupledRatings\n",
    "\n",
    "def getGaussianNormalizedRatings(ratings):\n",
    "    mean = np.mean(ratings)\n",
    "    std = np.std(ratings)\n",
    "    ratings = np.array(ratings)\n",
    "    return (ratings - mean) / std\n",
    "        "
   ]
  },
  {
   "cell_type": "code",
   "execution_count": null,
   "metadata": {},
   "outputs": [],
   "source": [
    "decoupledRatingPerrater = {rater: getDecoupledRatings(ratingsPerRater[rater]) for rater in allRaters}"
   ]
  },
  {
   "cell_type": "code",
   "execution_count": null,
   "metadata": {},
   "outputs": [],
   "source": [
    "otherInfosPerRater = {rater: [] for rater in allRaters}\n",
    "for i in range(len(df_rating)):\n",
    "    row = df_rating.iloc[i]\n",
    "    otherInfosPerRater[row['userId']].append((row['movieId'], row['timestamp']))"
   ]
  },
  {
   "cell_type": "code",
   "execution_count": null,
   "metadata": {},
   "outputs": [],
   "source": [
    "ratingDatasetFile = 'rating_full_dataset_normalized.csv'\n",
    "with open(data_directory + ratingDatasetFile, 'w', newline='') as out_csv:\n",
    "    writer = csv.writer(out_csv, delimiter=',')\n",
    "    writer.writerow(['rater_id', 'movie_id', 'rating', 'timestamp'])"
   ]
  },
  {
   "cell_type": "code",
   "execution_count": null,
   "metadata": {},
   "outputs": [],
   "source": [
    "%%time\n",
    "total = len(allRaters)\n",
    "count = 0\n",
    "with open(data_directory + ratingDatasetFile, 'a', newline='') as out_csv:\n",
    "    writer = csv.writer(out_csv, delimiter=',')\n",
    "    for rater in allRaters:\n",
    "        if len(otherInfosPerRater[rater]) != len(decoupledRatingPerrater[rater]):\n",
    "            print(f\"error! rater: {rater} len_info {len(otherInfosPerRater[rater])} len_decoupled {len(decoupledRatingPerrater[rater])}\")\n",
    "\n",
    "        for i in range(len(otherInfosPerRater[rater])):\n",
    "            rating = decoupledRatingPerrater[rater][i]\n",
    "            movieId = otherInfosPerRater[rater][i][0]\n",
    "            timestamp = otherInfosPerRater[rater][i][1]\n",
    "            writer.writerow([rater, movieId, rating - 0.5, timestamp])\n",
    "    \n",
    "        count += 1\n",
    "        if count % 100 == 0:\n",
    "            print(f'processed {count} raters, {total - count} left')"
   ]
  },
  {
   "cell_type": "code",
   "execution_count": 8,
   "metadata": {},
   "outputs": [],
   "source": [
    "ratingDatasetFile = 'rating_full_dataset_normalized.csv'\n",
    "df_ratingDataset = pd.read_csv(data_directory + ratingDatasetFile)"
   ]
  },
  {
   "cell_type": "markdown",
   "metadata": {},
   "source": [
    "# Only preserve ratings that are associated with a movie present in movie database"
   ]
  },
  {
   "cell_type": "code",
   "execution_count": 48,
   "metadata": {},
   "outputs": [
    {
     "name": "stdout",
     "output_type": "stream",
     "text": [
      "53806 53806\n"
     ]
    }
   ],
   "source": [
    "movieIds = list(df_movieDataset['movie_id'])\n",
    "print(len(movieIds), len(np.unique(movieIds)))"
   ]
  },
  {
   "cell_type": "code",
   "execution_count": 49,
   "metadata": {},
   "outputs": [],
   "source": [
    "df_ratingDataset_filtered = df_ratingDataset[df_ratingDataset['movie_id'].isin(movieIds)]"
   ]
  },
  {
   "cell_type": "code",
   "execution_count": 50,
   "metadata": {},
   "outputs": [
    {
     "name": "stdout",
     "output_type": "stream",
     "text": [
      "yield 25451571 rows from 27753444 rows in original dataset\n"
     ]
    }
   ],
   "source": [
    "print(f'yield {len(df_ratingDataset_filtered)} rows from {len(df_rating)} rows in original dataset')"
   ]
  },
  {
   "cell_type": "code",
   "execution_count": 42,
   "metadata": {},
   "outputs": [],
   "source": [
    "ratingDatasetFile_filtered = 'rating_full_dataset_normalized_filtered.csv'\n",
    "df_ratingDataset_filtered.to_csv(data_directory + ratingDatasetFile_filtered, index = False)"
   ]
  },
  {
   "cell_type": "code",
   "execution_count": 60,
   "metadata": {},
   "outputs": [
    {
     "name": "stdout",
     "output_type": "stream",
     "text": [
      "49800\n"
     ]
    }
   ],
   "source": [
    "print(len(np.unique(df_ratingDataset_filtered['movie_id'])))"
   ]
  },
  {
   "cell_type": "markdown",
   "metadata": {},
   "source": [
    "# Only preserve movies that have ratings in rating database"
   ]
  },
  {
   "cell_type": "code",
   "execution_count": 62,
   "metadata": {},
   "outputs": [],
   "source": [
    "moviesWithRatings = list(np.unique(df_ratingDataset_filtered['movie_id']))"
   ]
  },
  {
   "cell_type": "code",
   "execution_count": 63,
   "metadata": {},
   "outputs": [
    {
     "name": "stdout",
     "output_type": "stream",
     "text": [
      "49800 out of 53806 movies have ratings in rating dataset\n"
     ]
    }
   ],
   "source": [
    "df_movieDataset_filtered = df_movieDataset[df_movieDataset['movie_id'].isin(moviesWithRatings)]\n",
    "print(f'{len(df_movieDataset_filtered)} out of {len(df_movieDataset)} movies have ratings in rating dataset')"
   ]
  },
  {
   "cell_type": "code",
   "execution_count": 64,
   "metadata": {},
   "outputs": [],
   "source": [
    "movieDatasetFile_filtered = 'movie_full_dataset_filtered.csv'\n",
    "df_movieDataset_filtered.to_csv(data_directory + movieDatasetFile_filtered, index = False)"
   ]
  }
 ],
 "metadata": {
  "kernelspec": {
   "display_name": "Environment (conda_anaconda3)",
   "language": "python",
   "name": "conda_anaconda3"
  },
  "language_info": {
   "codemirror_mode": {
    "name": "ipython",
    "version": 3
   },
   "file_extension": ".py",
   "mimetype": "text/x-python",
   "name": "python",
   "nbconvert_exporter": "python",
   "pygments_lexer": "ipython3",
   "version": "3.6.10"
  }
 },
 "nbformat": 4,
 "nbformat_minor": 4
}
